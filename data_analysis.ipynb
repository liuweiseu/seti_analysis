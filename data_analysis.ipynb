{
 "cells": [
  {
   "attachments": {},
   "cell_type": "markdown",
   "metadata": {},
   "source": [
    "### Step1: Import necessary python packages"
   ]
  },
  {
   "cell_type": "code",
   "execution_count": 3,
   "metadata": {},
   "outputs": [],
   "source": [
    "from astropy.io import fits\n",
    "import matplotlib.pyplot as plt\n",
    "import math"
   ]
  },
  {
   "attachments": {},
   "cell_type": "markdown",
   "metadata": {},
   "source": [
    "### Step2: Choose and open data file"
   ]
  },
  {
   "cell_type": "code",
   "execution_count": 25,
   "metadata": {},
   "outputs": [],
   "source": [
    "filename = '../data/serendip6_panoseti_sxp_1_1_20230217_154019.working'\n",
    "hdu=fits.open(filename)\n"
   ]
  },
  {
   "attachments": {},
   "cell_type": "markdown",
   "metadata": {},
   "source": [
    "### Step3: Show PrimaryHDU header"
   ]
  },
  {
   "cell_type": "code",
   "execution_count": 9,
   "metadata": {},
   "outputs": [
    {
     "data": {
      "text/plain": [
       "SIMPLE  =                    T / file does conform to FITS standard             \n",
       "BITPIX  =                    8 / number of bits per data pixel                  \n",
       "NAXIS   =                    0 / number of data axes                            \n",
       "EXTEND  =                    T / FITS dataset may contain extensions            \n",
       "COMMENT   FITS (Flexible Image Transport System) format is defined in 'Astronomy\n",
       "COMMENT   and Astrophysics', volume 376, page 359; bibcode: 2001A&A...376..359H \n",
       "BLOCKED =                    T / Blocks of 2880 bytes                           \n",
       "ORIGIN  = 'SERENDIP VI'        / File was created by the guppi_daq sw           \n",
       "DATE    = '2023-02-17T23:40:19' / Date (dd/mm//yy) this file was written        \n",
       "HDRVER  =                   1. / Header version                                 \n",
       "S6HPCVER= '0.8.0   '           / version of serendip6.so                        \n",
       "LBGPUVER= '0.8.0   '           / version of libS6GPU.so                         \n",
       "HASHPVER= '0.1.0   '           / version of hashpipe lib/app                    \n",
       "FPGAVER = '0.1.0   '           / version of FPGA code                           \n",
       "TELESCOP= 'sxp     '           / Telescope name                                 \n",
       "DATE-OBS= '*       '           / Date of observation (YYYY-MM-DDThh:mm:ss UTC)  \n",
       "TSYS    = '*       '           / System temperature                             \n",
       "PROJID  = '*       '           / Project name                                   \n",
       "FRONTEND= '*       '           /   Rx and feed ID                               \n",
       "OBSFREQ = '*       '           / [MHz] Centre frequency for observation         \n",
       "SITELONG=            79.839835 / Antenna longitude (degrees, float)             \n",
       "SITELAT =            38.433121 / Antenna latitude (degrees, float)              \n",
       "SITEELEV=               807.43 / Antenna elevation (metres, float)              \n",
       "EQUINOX =                2000. / Equinox of coords (e.g. 2000.0)                \n",
       "FITSTYPE= 'ETFITS  '           / FITS definition for pulsar data files          \n",
       "INSTRUME= 'SERENDIP VI'        / Backend ID                                     \n",
       "COORD_MD= 'J2000   '           / Coordinate mode (J2000, GAL, ECLIP, etc.)      \n",
       "NINPUTS =                    1 / Number of pols * number of subbands            \n",
       "BANDWID = '*       '           / Bandwidth of entire backend                    \n",
       "FREQRES = '*       '           / Width of each original spectral channel        \n",
       "NSUBBAND=                    0 / number of subbands                             \n",
       "NCHAN   =            134217728 / Number of spectral bins per sub-band           \n",
       "CHAN_BW = '*       '           / bandwidth of each spectral bin (resolution)    \n",
       "THRSHOLD=                  20. / S/N threshold for hit detection                \n",
       "SMOOTHSC=                 8192 / number of bins over which baseline             \n",
       "HIERARCH SMOOTHING = 'is      '                                                 "
      ]
     },
     "execution_count": 9,
     "metadata": {},
     "output_type": "execute_result"
    }
   ],
   "source": [
    "hdu[0].header"
   ]
  },
  {
   "attachments": {},
   "cell_type": "markdown",
   "metadata": {},
   "source": [
    "### Step4: Show BinTableHDU header"
   ]
  },
  {
   "cell_type": "code",
   "execution_count": 10,
   "metadata": {},
   "outputs": [
    {
     "data": {
      "text/plain": [
       "XTENSION= 'BINTABLE'           / FITS binary table                              \n",
       "BITPIX  =                    8 / Binary data                                    \n",
       "NAXIS   =                    2 / 2-dimensional binary table                     \n",
       "NAXIS1  =                    0 / width of table in bytes                        \n",
       "NAXIS2  =                    0 / Number of rows in table                        \n",
       "PCOUNT  =                    0 / size of special data area                      \n",
       "GCOUNT  =                    1 / one data group (required keyword)              \n",
       "TFIELDS =                    0 / Number of fields per row                       \n",
       "EXTNAME = 'MROSTATUS'          / name of this binary table extension            \n",
       "NMATRIX =                    1 / 1 dataset per row                              \n",
       "COARCHID=                    0 / coarse channel ID                              \n",
       "TIME    = '*       '           / unix time, decimal seconds                     \n",
       "RECEIVER= '*       '                                                            \n",
       "SOURCE  = '0406-127'                                                            \n",
       "ONSOURCE=                    1                                                  \n",
       "SITE    = 'Mc      '                                                            \n",
       "RX_CODE = 'sxp     '                                                            \n",
       "YEAR_DOY= '#2023-026/174535'                                                    \n",
       "YEAR    =                 2023                                                  \n",
       "DOY_UTC =                   26                                                  \n",
       "UTC     =               174535                                                  \n",
       "LO_FREQ =                8080.                                                  \n",
       "TSYS    =            40.900002                                                  \n",
       "XC      =              -331.09                                                  \n",
       "YC      =              -306.92                                                  \n",
       "Z1C     =                -4.51                                                  \n",
       "Z2C     =               -53.14                                                  \n",
       "Z3C     =                66.82                                                  \n",
       "XA      =              -331.09                                                  \n",
       "YA      =              -306.92                                                  \n",
       "Z1A     =                 -7.7                                                  \n",
       "Z2A     =               -48.77                                                  \n",
       "Z3A     =                51.04                                                  \n",
       "SUBMODE =                    0                                                  \n",
       "RX_SUB  = 'sxp     '                                                            \n",
       "SCU_STAT=                   63                                                  \n",
       "EXTVER  =                    1 / auto assigned by template parser               "
      ]
     },
     "execution_count": 10,
     "metadata": {},
     "output_type": "execute_result"
    }
   ],
   "source": [
    "hdu[1].header"
   ]
  },
  {
   "attachments": {},
   "cell_type": "markdown",
   "metadata": {},
   "source": [
    "### Step5: read data out and plot the data"
   ]
  },
  {
   "cell_type": "code",
   "execution_count": 32,
   "metadata": {},
   "outputs": [
    {
     "name": "stderr",
     "output_type": "stream",
     "text": [
      "/tmp/ipykernel_15938/2737590296.py:38: RuntimeWarning: divide by zero encountered in divide\n",
      "  d = detpow/meanpow\n"
     ]
    },
    {
     "name": "stdout",
     "output_type": "stream",
     "text": [
      "[  44.361652 2060.3599    109.799126 ...         inf         inf\n",
      "         inf]\n"
     ]
    },
    {
     "data": {
      "image/png": "[encoded data removed]",
      "text/plain": [
       "<Figure size 640x480 with 4 Axes>"
      ]
     },
     "metadata": {},
     "output_type": "display_data"
    }
   ],
   "source": [
    "# specify the data is from which BinTableHDU\n",
    "n = 18\n",
    "fft_points = 256*1024*1024\n",
    "fs = 900\n",
    "\n",
    "# get data\n",
    "detpow = hdu[n].data.field('DETPOW')\n",
    "meanpow = hdu[n].data.field('MEANPOW')\n",
    "coarchan =hdu[n].data.field('COARCHAN')\n",
    "finechan = hdu[n].data.field('FINECHAN')\n",
    "\n",
    "# calculate the freq range\n",
    "freq = finechan/fft_points*fs\n",
    "# convert the power to log scale\n",
    "meanpow_log = []\n",
    "detpow_log = []\n",
    "for i in range(len(detpow)):\n",
    "    meanpow_log.append(math.log(meanpow[i] + 0.000001,10))\n",
    "    detpow_log.append(math.log(detpow[i],10))\n",
    "\n",
    "# plot the data\n",
    "# fig1\n",
    "plt.subplot(2,2,1)\n",
    "plt.plot(freq, detpow, color='r')\n",
    "plt.plot(freq, meanpow, color='g')\n",
    "plt.title('Spec')\n",
    "plt.xlabel('MHz')\n",
    "plt.ylabel('detpow and meanpow')\n",
    "#fig2\n",
    "plt.subplot(2,2,2)\n",
    "plt.scatter(freq, detpow_log, color='r')\n",
    "plt.scatter(freq, meanpow_log, color='g')\n",
    "plt.title('Spec (log10(power))')\n",
    "plt.xlabel('MHz')\n",
    "plt.ylabel('detpow and meanpow')\n",
    "#fig3\n",
    "plt.subplot(2,2,3)\n",
    "d = detpow/meanpow\n",
    "print(d)\n",
    "plt.scatter(freq,d)\n",
    "plt.title('detpow divided by meanpow')\n",
    "plt.xlabel('MHz')\n",
    "plt.ylabel('detpow/meanpow')\n",
    "#fig4\n",
    "plt.subplot(2,2,4)\n",
    "plt.plot(freq,meanpow)\n",
    "plt.title('meanpow')\n",
    "plt.xlabel('MHz')\n",
    "plt.ylabel('meanpow')\n",
    "# show the figures\n",
    "plt.tight_layout()\n",
    "plt.show()\n"
   ]
  },
  {
   "cell_type": "code",
   "execution_count": 14,
   "metadata": {},
   "outputs": [
    {
     "data": {
      "text/plain": [
       "FITS_rec([(3.85121177e+12, 2.4063508e+09, 0,    14392),\n",
       "          (1.13215865e+11, 2.4060887e+09, 0,    14393),\n",
       "          (7.21278075e+11, 2.3863624e+09, 0,    28784), ...,\n",
       "          (8.74307440e+07, 0.0000000e+00, 0, 86362553),\n",
       "          (6.02016960e+07, 0.0000000e+00, 0, 86362554),\n",
       "          (3.03181376e+08, 0.0000000e+00, 0, 86362555)],\n",
       "         dtype=(numpy.record, [('DETPOW', '>f4'), ('MEANPOW', '>f4'), ('COARCHAN', '>i2'), ('FINECHAN', '>i4')]))"
      ]
     },
     "execution_count": 14,
     "metadata": {},
     "output_type": "execute_result"
    }
   ],
   "source": [
    "hdu[2].data"
   ]
  },
  {
   "cell_type": "code",
   "execution_count": 16,
   "metadata": {},
   "outputs": [
    {
     "data": {
      "text/plain": [
       "array([9.381359, 9.381311, 9.377736, ..., 0.      , 0.      , 0.      ],\n",
       "      dtype=float32)"
      ]
     },
     "execution_count": 16,
     "metadata": {},
     "output_type": "execute_result"
    }
   ],
   "source": [
    "meanpow"
   ]
  },
  {
   "cell_type": "code",
   "execution_count": null,
   "metadata": {},
   "outputs": [],
   "source": []
  }
 ],
 "metadata": {
  "kernelspec": {
   "display_name": "seti",
   "language": "python",
   "name": "python3"
  },
  "language_info": {
   "codemirror_mode": {
    "name": "ipython",
    "version": 3
   },
   "file_extension": ".py",
   "mimetype": "text/x-python",
   "name": "python",
   "nbconvert_exporter": "python",
   "pygments_lexer": "ipython3",
   "version": "3.9.16"
  },
  "orig_nbformat": 4,
  "vscode": {
   "interpreter": {
    "hash": "71862daa501f5532bf5c46f6f5356569be6a0d610009ce681f94388618bae877"
   }
  }
 },
 "nbformat": 4,
 "nbformat_minor": 2
}
